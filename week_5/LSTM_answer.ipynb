{
 "cells": [
  {
   "cell_type": "code",
   "execution_count": 76,
   "metadata": {},
   "outputs": [
    {
     "name": "stdout",
     "output_type": "stream",
     "text": [
      "The autoreload extension is already loaded. To reload it, use:\n",
      "  %reload_ext autoreload\n"
     ]
    }
   ],
   "source": [
    "%load_ext autoreload\n",
    "%autoreload 2"
   ]
  },
  {
   "cell_type": "code",
   "execution_count": 77,
   "metadata": {},
   "outputs": [],
   "source": [
    "import sys\n",
    "import pathlib\n",
    "\n",
    "sys.path.append(str(pathlib.Path().cwd().parent))"
   ]
  },
  {
   "cell_type": "code",
   "execution_count": 78,
   "metadata": {},
   "outputs": [],
   "source": [
    "from typing import Tuple\n",
    "\n",
    "from dataset import Dataset\n",
    "from plotting import plot_ts\n",
    "\n",
    "dataset = Dataset('../data/dataset/')"
   ]
  },
  {
   "cell_type": "markdown",
   "metadata": {},
   "source": [
    "### В чем заключаются недостатки полносвязных сетей?\n",
    "* невозможность улавливать временные закономерности в контексте предыдущих точек (архитектурное ограничение)\n",
    "* фиксированный размер входных данных\n",
    "* фиксированный размер выходных данных"
   ]
  },
  {
   "cell_type": "markdown",
   "metadata": {},
   "source": [
    "### Область применимости рекуретных сетей для задачи анализа временных рядов\n",
    "* большое количество экзогенных признаков, имеющих сложную нелинейную зависимость с целевым рядом\n",
    "* очень сложная временная структура имеющая наложение разных сезонных и цикличных паттернов\n",
    "* ряды с часто меняющимся паттерном, или большим количеством аномалий\n",
    "* когда есть необходимость в нефиксированной длине входных и выходных данных (например многомерные ряды, где для разных компонент хочется предоставить разное количество лагов) "
   ]
  },
  {
   "cell_type": "markdown",
   "metadata": {},
   "source": [
    "### Особенности подготовки данных - необходима нормализация данных, иначе сеть будет плохо сходиться и медленно обучаться."
   ]
  },
  {
   "cell_type": "code",
   "execution_count": 79,
   "metadata": {},
   "outputs": [],
   "source": [
    "import numpy as np\n",
    "import pandas as pd\n",
    "from sklearn.preprocessing import MinMaxScaler"
   ]
  },
  {
   "cell_type": "code",
   "execution_count": 87,
   "metadata": {},
   "outputs": [],
   "source": [
    "data = np.array(range(0, 100, 10)).reshape(-1, 1)"
   ]
  },
  {
   "cell_type": "code",
   "execution_count": 88,
   "metadata": {},
   "outputs": [],
   "source": [
    "scaler = MinMaxScaler((0, 1))"
   ]
  },
  {
   "cell_type": "code",
   "execution_count": 89,
   "metadata": {},
   "outputs": [
    {
     "data": {
      "text/html": [
       "<style>#sk-container-id-3 {\n",
       "  /* Definition of color scheme common for light and dark mode */\n",
       "  --sklearn-color-text: black;\n",
       "  --sklearn-color-line: gray;\n",
       "  /* Definition of color scheme for unfitted estimators */\n",
       "  --sklearn-color-unfitted-level-0: #fff5e6;\n",
       "  --sklearn-color-unfitted-level-1: #f6e4d2;\n",
       "  --sklearn-color-unfitted-level-2: #ffe0b3;\n",
       "  --sklearn-color-unfitted-level-3: chocolate;\n",
       "  /* Definition of color scheme for fitted estimators */\n",
       "  --sklearn-color-fitted-level-0: #f0f8ff;\n",
       "  --sklearn-color-fitted-level-1: #d4ebff;\n",
       "  --sklearn-color-fitted-level-2: #b3dbfd;\n",
       "  --sklearn-color-fitted-level-3: cornflowerblue;\n",
       "\n",
       "  /* Specific color for light theme */\n",
       "  --sklearn-color-text-on-default-background: var(--sg-text-color, var(--theme-code-foreground, var(--jp-content-font-color1, black)));\n",
       "  --sklearn-color-background: var(--sg-background-color, var(--theme-background, var(--jp-layout-color0, white)));\n",
       "  --sklearn-color-border-box: var(--sg-text-color, var(--theme-code-foreground, var(--jp-content-font-color1, black)));\n",
       "  --sklearn-color-icon: #696969;\n",
       "\n",
       "  @media (prefers-color-scheme: dark) {\n",
       "    /* Redefinition of color scheme for dark theme */\n",
       "    --sklearn-color-text-on-default-background: var(--sg-text-color, var(--theme-code-foreground, var(--jp-content-font-color1, white)));\n",
       "    --sklearn-color-background: var(--sg-background-color, var(--theme-background, var(--jp-layout-color0, #111)));\n",
       "    --sklearn-color-border-box: var(--sg-text-color, var(--theme-code-foreground, var(--jp-content-font-color1, white)));\n",
       "    --sklearn-color-icon: #878787;\n",
       "  }\n",
       "}\n",
       "\n",
       "#sk-container-id-3 {\n",
       "  color: var(--sklearn-color-text);\n",
       "}\n",
       "\n",
       "#sk-container-id-3 pre {\n",
       "  padding: 0;\n",
       "}\n",
       "\n",
       "#sk-container-id-3 input.sk-hidden--visually {\n",
       "  border: 0;\n",
       "  clip: rect(1px 1px 1px 1px);\n",
       "  clip: rect(1px, 1px, 1px, 1px);\n",
       "  height: 1px;\n",
       "  margin: -1px;\n",
       "  overflow: hidden;\n",
       "  padding: 0;\n",
       "  position: absolute;\n",
       "  width: 1px;\n",
       "}\n",
       "\n",
       "#sk-container-id-3 div.sk-dashed-wrapped {\n",
       "  border: 1px dashed var(--sklearn-color-line);\n",
       "  margin: 0 0.4em 0.5em 0.4em;\n",
       "  box-sizing: border-box;\n",
       "  padding-bottom: 0.4em;\n",
       "  background-color: var(--sklearn-color-background);\n",
       "}\n",
       "\n",
       "#sk-container-id-3 div.sk-container {\n",
       "  /* jupyter's `normalize.less` sets `[hidden] { display: none; }`\n",
       "     but bootstrap.min.css set `[hidden] { display: none !important; }`\n",
       "     so we also need the `!important` here to be able to override the\n",
       "     default hidden behavior on the sphinx rendered scikit-learn.org.\n",
       "     See: https://github.com/scikit-learn/scikit-learn/issues/21755 */\n",
       "  display: inline-block !important;\n",
       "  position: relative;\n",
       "}\n",
       "\n",
       "#sk-container-id-3 div.sk-text-repr-fallback {\n",
       "  display: none;\n",
       "}\n",
       "\n",
       "div.sk-parallel-item,\n",
       "div.sk-serial,\n",
       "div.sk-item {\n",
       "  /* draw centered vertical line to link estimators */\n",
       "  background-image: linear-gradient(var(--sklearn-color-text-on-default-background), var(--sklearn-color-text-on-default-background));\n",
       "  background-size: 2px 100%;\n",
       "  background-repeat: no-repeat;\n",
       "  background-position: center center;\n",
       "}\n",
       "\n",
       "/* Parallel-specific style estimator block */\n",
       "\n",
       "#sk-container-id-3 div.sk-parallel-item::after {\n",
       "  content: \"\";\n",
       "  width: 100%;\n",
       "  border-bottom: 2px solid var(--sklearn-color-text-on-default-background);\n",
       "  flex-grow: 1;\n",
       "}\n",
       "\n",
       "#sk-container-id-3 div.sk-parallel {\n",
       "  display: flex;\n",
       "  align-items: stretch;\n",
       "  justify-content: center;\n",
       "  background-color: var(--sklearn-color-background);\n",
       "  position: relative;\n",
       "}\n",
       "\n",
       "#sk-container-id-3 div.sk-parallel-item {\n",
       "  display: flex;\n",
       "  flex-direction: column;\n",
       "}\n",
       "\n",
       "#sk-container-id-3 div.sk-parallel-item:first-child::after {\n",
       "  align-self: flex-end;\n",
       "  width: 50%;\n",
       "}\n",
       "\n",
       "#sk-container-id-3 div.sk-parallel-item:last-child::after {\n",
       "  align-self: flex-start;\n",
       "  width: 50%;\n",
       "}\n",
       "\n",
       "#sk-container-id-3 div.sk-parallel-item:only-child::after {\n",
       "  width: 0;\n",
       "}\n",
       "\n",
       "/* Serial-specific style estimator block */\n",
       "\n",
       "#sk-container-id-3 div.sk-serial {\n",
       "  display: flex;\n",
       "  flex-direction: column;\n",
       "  align-items: center;\n",
       "  background-color: var(--sklearn-color-background);\n",
       "  padding-right: 1em;\n",
       "  padding-left: 1em;\n",
       "}\n",
       "\n",
       "\n",
       "/* Toggleable style: style used for estimator/Pipeline/ColumnTransformer box that is\n",
       "clickable and can be expanded/collapsed.\n",
       "- Pipeline and ColumnTransformer use this feature and define the default style\n",
       "- Estimators will overwrite some part of the style using the `sk-estimator` class\n",
       "*/\n",
       "\n",
       "/* Pipeline and ColumnTransformer style (default) */\n",
       "\n",
       "#sk-container-id-3 div.sk-toggleable {\n",
       "  /* Default theme specific background. It is overwritten whether we have a\n",
       "  specific estimator or a Pipeline/ColumnTransformer */\n",
       "  background-color: var(--sklearn-color-background);\n",
       "}\n",
       "\n",
       "/* Toggleable label */\n",
       "#sk-container-id-3 label.sk-toggleable__label {\n",
       "  cursor: pointer;\n",
       "  display: block;\n",
       "  width: 100%;\n",
       "  margin-bottom: 0;\n",
       "  padding: 0.5em;\n",
       "  box-sizing: border-box;\n",
       "  text-align: center;\n",
       "}\n",
       "\n",
       "#sk-container-id-3 label.sk-toggleable__label-arrow:before {\n",
       "  /* Arrow on the left of the label */\n",
       "  content: \"▸\";\n",
       "  float: left;\n",
       "  margin-right: 0.25em;\n",
       "  color: var(--sklearn-color-icon);\n",
       "}\n",
       "\n",
       "#sk-container-id-3 label.sk-toggleable__label-arrow:hover:before {\n",
       "  color: var(--sklearn-color-text);\n",
       "}\n",
       "\n",
       "/* Toggleable content - dropdown */\n",
       "\n",
       "#sk-container-id-3 div.sk-toggleable__content {\n",
       "  max-height: 0;\n",
       "  max-width: 0;\n",
       "  overflow: hidden;\n",
       "  text-align: left;\n",
       "  /* unfitted */\n",
       "  background-color: var(--sklearn-color-unfitted-level-0);\n",
       "}\n",
       "\n",
       "#sk-container-id-3 div.sk-toggleable__content.fitted {\n",
       "  /* fitted */\n",
       "  background-color: var(--sklearn-color-fitted-level-0);\n",
       "}\n",
       "\n",
       "#sk-container-id-3 div.sk-toggleable__content pre {\n",
       "  margin: 0.2em;\n",
       "  border-radius: 0.25em;\n",
       "  color: var(--sklearn-color-text);\n",
       "  /* unfitted */\n",
       "  background-color: var(--sklearn-color-unfitted-level-0);\n",
       "}\n",
       "\n",
       "#sk-container-id-3 div.sk-toggleable__content.fitted pre {\n",
       "  /* unfitted */\n",
       "  background-color: var(--sklearn-color-fitted-level-0);\n",
       "}\n",
       "\n",
       "#sk-container-id-3 input.sk-toggleable__control:checked~div.sk-toggleable__content {\n",
       "  /* Expand drop-down */\n",
       "  max-height: 200px;\n",
       "  max-width: 100%;\n",
       "  overflow: auto;\n",
       "}\n",
       "\n",
       "#sk-container-id-3 input.sk-toggleable__control:checked~label.sk-toggleable__label-arrow:before {\n",
       "  content: \"▾\";\n",
       "}\n",
       "\n",
       "/* Pipeline/ColumnTransformer-specific style */\n",
       "\n",
       "#sk-container-id-3 div.sk-label input.sk-toggleable__control:checked~label.sk-toggleable__label {\n",
       "  color: var(--sklearn-color-text);\n",
       "  background-color: var(--sklearn-color-unfitted-level-2);\n",
       "}\n",
       "\n",
       "#sk-container-id-3 div.sk-label.fitted input.sk-toggleable__control:checked~label.sk-toggleable__label {\n",
       "  background-color: var(--sklearn-color-fitted-level-2);\n",
       "}\n",
       "\n",
       "/* Estimator-specific style */\n",
       "\n",
       "/* Colorize estimator box */\n",
       "#sk-container-id-3 div.sk-estimator input.sk-toggleable__control:checked~label.sk-toggleable__label {\n",
       "  /* unfitted */\n",
       "  background-color: var(--sklearn-color-unfitted-level-2);\n",
       "}\n",
       "\n",
       "#sk-container-id-3 div.sk-estimator.fitted input.sk-toggleable__control:checked~label.sk-toggleable__label {\n",
       "  /* fitted */\n",
       "  background-color: var(--sklearn-color-fitted-level-2);\n",
       "}\n",
       "\n",
       "#sk-container-id-3 div.sk-label label.sk-toggleable__label,\n",
       "#sk-container-id-3 div.sk-label label {\n",
       "  /* The background is the default theme color */\n",
       "  color: var(--sklearn-color-text-on-default-background);\n",
       "}\n",
       "\n",
       "/* On hover, darken the color of the background */\n",
       "#sk-container-id-3 div.sk-label:hover label.sk-toggleable__label {\n",
       "  color: var(--sklearn-color-text);\n",
       "  background-color: var(--sklearn-color-unfitted-level-2);\n",
       "}\n",
       "\n",
       "/* Label box, darken color on hover, fitted */\n",
       "#sk-container-id-3 div.sk-label.fitted:hover label.sk-toggleable__label.fitted {\n",
       "  color: var(--sklearn-color-text);\n",
       "  background-color: var(--sklearn-color-fitted-level-2);\n",
       "}\n",
       "\n",
       "/* Estimator label */\n",
       "\n",
       "#sk-container-id-3 div.sk-label label {\n",
       "  font-family: monospace;\n",
       "  font-weight: bold;\n",
       "  display: inline-block;\n",
       "  line-height: 1.2em;\n",
       "}\n",
       "\n",
       "#sk-container-id-3 div.sk-label-container {\n",
       "  text-align: center;\n",
       "}\n",
       "\n",
       "/* Estimator-specific */\n",
       "#sk-container-id-3 div.sk-estimator {\n",
       "  font-family: monospace;\n",
       "  border: 1px dotted var(--sklearn-color-border-box);\n",
       "  border-radius: 0.25em;\n",
       "  box-sizing: border-box;\n",
       "  margin-bottom: 0.5em;\n",
       "  /* unfitted */\n",
       "  background-color: var(--sklearn-color-unfitted-level-0);\n",
       "}\n",
       "\n",
       "#sk-container-id-3 div.sk-estimator.fitted {\n",
       "  /* fitted */\n",
       "  background-color: var(--sklearn-color-fitted-level-0);\n",
       "}\n",
       "\n",
       "/* on hover */\n",
       "#sk-container-id-3 div.sk-estimator:hover {\n",
       "  /* unfitted */\n",
       "  background-color: var(--sklearn-color-unfitted-level-2);\n",
       "}\n",
       "\n",
       "#sk-container-id-3 div.sk-estimator.fitted:hover {\n",
       "  /* fitted */\n",
       "  background-color: var(--sklearn-color-fitted-level-2);\n",
       "}\n",
       "\n",
       "/* Specification for estimator info (e.g. \"i\" and \"?\") */\n",
       "\n",
       "/* Common style for \"i\" and \"?\" */\n",
       "\n",
       ".sk-estimator-doc-link,\n",
       "a:link.sk-estimator-doc-link,\n",
       "a:visited.sk-estimator-doc-link {\n",
       "  float: right;\n",
       "  font-size: smaller;\n",
       "  line-height: 1em;\n",
       "  font-family: monospace;\n",
       "  background-color: var(--sklearn-color-background);\n",
       "  border-radius: 1em;\n",
       "  height: 1em;\n",
       "  width: 1em;\n",
       "  text-decoration: none !important;\n",
       "  margin-left: 1ex;\n",
       "  /* unfitted */\n",
       "  border: var(--sklearn-color-unfitted-level-1) 1pt solid;\n",
       "  color: var(--sklearn-color-unfitted-level-1);\n",
       "}\n",
       "\n",
       ".sk-estimator-doc-link.fitted,\n",
       "a:link.sk-estimator-doc-link.fitted,\n",
       "a:visited.sk-estimator-doc-link.fitted {\n",
       "  /* fitted */\n",
       "  border: var(--sklearn-color-fitted-level-1) 1pt solid;\n",
       "  color: var(--sklearn-color-fitted-level-1);\n",
       "}\n",
       "\n",
       "/* On hover */\n",
       "div.sk-estimator:hover .sk-estimator-doc-link:hover,\n",
       ".sk-estimator-doc-link:hover,\n",
       "div.sk-label-container:hover .sk-estimator-doc-link:hover,\n",
       ".sk-estimator-doc-link:hover {\n",
       "  /* unfitted */\n",
       "  background-color: var(--sklearn-color-unfitted-level-3);\n",
       "  color: var(--sklearn-color-background);\n",
       "  text-decoration: none;\n",
       "}\n",
       "\n",
       "div.sk-estimator.fitted:hover .sk-estimator-doc-link.fitted:hover,\n",
       ".sk-estimator-doc-link.fitted:hover,\n",
       "div.sk-label-container:hover .sk-estimator-doc-link.fitted:hover,\n",
       ".sk-estimator-doc-link.fitted:hover {\n",
       "  /* fitted */\n",
       "  background-color: var(--sklearn-color-fitted-level-3);\n",
       "  color: var(--sklearn-color-background);\n",
       "  text-decoration: none;\n",
       "}\n",
       "\n",
       "/* Span, style for the box shown on hovering the info icon */\n",
       ".sk-estimator-doc-link span {\n",
       "  display: none;\n",
       "  z-index: 9999;\n",
       "  position: relative;\n",
       "  font-weight: normal;\n",
       "  right: .2ex;\n",
       "  padding: .5ex;\n",
       "  margin: .5ex;\n",
       "  width: min-content;\n",
       "  min-width: 20ex;\n",
       "  max-width: 50ex;\n",
       "  color: var(--sklearn-color-text);\n",
       "  box-shadow: 2pt 2pt 4pt #999;\n",
       "  /* unfitted */\n",
       "  background: var(--sklearn-color-unfitted-level-0);\n",
       "  border: .5pt solid var(--sklearn-color-unfitted-level-3);\n",
       "}\n",
       "\n",
       ".sk-estimator-doc-link.fitted span {\n",
       "  /* fitted */\n",
       "  background: var(--sklearn-color-fitted-level-0);\n",
       "  border: var(--sklearn-color-fitted-level-3);\n",
       "}\n",
       "\n",
       ".sk-estimator-doc-link:hover span {\n",
       "  display: block;\n",
       "}\n",
       "\n",
       "/* \"?\"-specific style due to the `<a>` HTML tag */\n",
       "\n",
       "#sk-container-id-3 a.estimator_doc_link {\n",
       "  float: right;\n",
       "  font-size: 1rem;\n",
       "  line-height: 1em;\n",
       "  font-family: monospace;\n",
       "  background-color: var(--sklearn-color-background);\n",
       "  border-radius: 1rem;\n",
       "  height: 1rem;\n",
       "  width: 1rem;\n",
       "  text-decoration: none;\n",
       "  /* unfitted */\n",
       "  color: var(--sklearn-color-unfitted-level-1);\n",
       "  border: var(--sklearn-color-unfitted-level-1) 1pt solid;\n",
       "}\n",
       "\n",
       "#sk-container-id-3 a.estimator_doc_link.fitted {\n",
       "  /* fitted */\n",
       "  border: var(--sklearn-color-fitted-level-1) 1pt solid;\n",
       "  color: var(--sklearn-color-fitted-level-1);\n",
       "}\n",
       "\n",
       "/* On hover */\n",
       "#sk-container-id-3 a.estimator_doc_link:hover {\n",
       "  /* unfitted */\n",
       "  background-color: var(--sklearn-color-unfitted-level-3);\n",
       "  color: var(--sklearn-color-background);\n",
       "  text-decoration: none;\n",
       "}\n",
       "\n",
       "#sk-container-id-3 a.estimator_doc_link.fitted:hover {\n",
       "  /* fitted */\n",
       "  background-color: var(--sklearn-color-fitted-level-3);\n",
       "}\n",
       "</style><div id=\"sk-container-id-3\" class=\"sk-top-container\"><div class=\"sk-text-repr-fallback\"><pre>MinMaxScaler()</pre><b>In a Jupyter environment, please rerun this cell to show the HTML representation or trust the notebook. <br />On GitHub, the HTML representation is unable to render, please try loading this page with nbviewer.org.</b></div><div class=\"sk-container\" hidden><div class=\"sk-item\"><div class=\"sk-estimator fitted sk-toggleable\"><input class=\"sk-toggleable__control sk-hidden--visually\" id=\"sk-estimator-id-3\" type=\"checkbox\" checked><label for=\"sk-estimator-id-3\" class=\"sk-toggleable__label fitted sk-toggleable__label-arrow fitted\">&nbsp;&nbsp;MinMaxScaler<a class=\"sk-estimator-doc-link fitted\" rel=\"noreferrer\" target=\"_blank\" href=\"https://scikit-learn.org/1.4/modules/generated/sklearn.preprocessing.MinMaxScaler.html\">?<span>Documentation for MinMaxScaler</span></a><span class=\"sk-estimator-doc-link fitted\">i<span>Fitted</span></span></label><div class=\"sk-toggleable__content fitted\"><pre>MinMaxScaler()</pre></div> </div></div></div></div>"
      ],
      "text/plain": [
       "MinMaxScaler()"
      ]
     },
     "execution_count": 89,
     "metadata": {},
     "output_type": "execute_result"
    }
   ],
   "source": [
    "scaler.fit(data)"
   ]
  },
  {
   "cell_type": "code",
   "execution_count": 90,
   "metadata": {},
   "outputs": [],
   "source": [
    "transformed = scaler.transform(data)"
   ]
  },
  {
   "cell_type": "code",
   "execution_count": 91,
   "metadata": {},
   "outputs": [
    {
     "data": {
      "text/plain": [
       "array([[0.        ],\n",
       "       [0.11111111],\n",
       "       [0.22222222],\n",
       "       [0.33333333],\n",
       "       [0.44444444],\n",
       "       [0.55555556],\n",
       "       [0.66666667],\n",
       "       [0.77777778],\n",
       "       [0.88888889],\n",
       "       [1.        ]])"
      ]
     },
     "execution_count": 91,
     "metadata": {},
     "output_type": "execute_result"
    }
   ],
   "source": [
    "transformed"
   ]
  },
  {
   "cell_type": "code",
   "execution_count": 92,
   "metadata": {},
   "outputs": [],
   "source": [
    "inverse = scaler.inverse_transform(transformed)"
   ]
  },
  {
   "cell_type": "code",
   "execution_count": 93,
   "metadata": {},
   "outputs": [
    {
     "data": {
      "text/plain": [
       "array([[ 0.],\n",
       "       [10.],\n",
       "       [20.],\n",
       "       [30.],\n",
       "       [40.],\n",
       "       [50.],\n",
       "       [60.],\n",
       "       [70.],\n",
       "       [80.],\n",
       "       [90.]])"
      ]
     },
     "execution_count": 93,
     "metadata": {},
     "output_type": "execute_result"
    }
   ],
   "source": [
    "inverse"
   ]
  },
  {
   "cell_type": "markdown",
   "metadata": {},
   "source": [
    "### Особенность подготвки данных - обработка последовательностей разной длины."
   ]
  },
  {
   "cell_type": "code",
   "execution_count": 99,
   "metadata": {},
   "outputs": [],
   "source": [
    "from tensorflow.keras.preprocessing.sequence import pad_sequences"
   ]
  },
  {
   "cell_type": "code",
   "execution_count": 100,
   "metadata": {},
   "outputs": [],
   "source": [
    "sequences = [\n",
    "    [1, 2, 3, 4],\n",
    "    [3, 4, 5],\n",
    "    [5, 6],\n",
    "    [3]\n",
    "]"
   ]
  },
  {
   "cell_type": "code",
   "execution_count": 101,
   "metadata": {},
   "outputs": [
    {
     "data": {
      "text/plain": [
       "array([[1, 2, 3, 4],\n",
       "       [0, 3, 4, 5],\n",
       "       [0, 0, 5, 6],\n",
       "       [0, 0, 0, 3]], dtype=int32)"
      ]
     },
     "execution_count": 101,
     "metadata": {},
     "output_type": "execute_result"
    }
   ],
   "source": [
    "pad_sequences(sequences, padding='pre')"
   ]
  },
  {
   "cell_type": "code",
   "execution_count": 102,
   "metadata": {},
   "outputs": [
    {
     "data": {
      "text/plain": [
       "array([[1, 2, 3, 4],\n",
       "       [3, 4, 5, 0],\n",
       "       [5, 6, 0, 0],\n",
       "       [3, 0, 0, 0]], dtype=int32)"
      ]
     },
     "execution_count": 102,
     "metadata": {},
     "output_type": "execute_result"
    }
   ],
   "source": [
    "pad_sequences(sequences, padding='post')"
   ]
  },
  {
   "cell_type": "code",
   "execution_count": 103,
   "metadata": {},
   "outputs": [
    {
     "data": {
      "text/plain": [
       "array([[3, 4],\n",
       "       [4, 5],\n",
       "       [5, 6],\n",
       "       [0, 3]], dtype=int32)"
      ]
     },
     "execution_count": 103,
     "metadata": {},
     "output_type": "execute_result"
    }
   ],
   "source": [
    "pad_sequences(sequences, maxlen=2)"
   ]
  },
  {
   "cell_type": "code",
   "execution_count": 104,
   "metadata": {},
   "outputs": [
    {
     "data": {
      "text/plain": [
       "array([[1, 2],\n",
       "       [3, 4],\n",
       "       [5, 6],\n",
       "       [0, 3]], dtype=int32)"
      ]
     },
     "execution_count": 104,
     "metadata": {},
     "output_type": "execute_result"
    }
   ],
   "source": [
    "pad_sequences(sequences, maxlen=2, truncating='post')"
   ]
  },
  {
   "cell_type": "markdown",
   "metadata": {},
   "source": [
    "### Какие архитектуры lstm нас интересуют в контексте временных рядов?\n",
    "* one-to-one - предсказание следующей точки по предыдущей - нет\n",
    "* one-to-many - предсказание следующих N точeк про предыдущей - нет\n",
    "* many-to-one - one-step-ahead предсказание - в некоторой степени\n",
    "* many-to-many -  предсказание вектора из следующих m точек по предыдущим n точкам - наибольший интерес"
   ]
  },
  {
   "cell_type": "markdown",
   "metadata": {},
   "source": [
    "### Простая LSTM сеть"
   ]
  },
  {
   "cell_type": "code",
   "execution_count": 105,
   "metadata": {},
   "outputs": [],
   "source": [
    "from tensorflow.keras.models import Sequential\n",
    "from tensorflow.keras.layers import LSTM, Dense"
   ]
  },
  {
   "cell_type": "code",
   "execution_count": 106,
   "metadata": {},
   "outputs": [],
   "source": [
    "ts = dataset['daily-min-temperatures.csv']"
   ]
  },
  {
   "cell_type": "code",
   "execution_count": 107,
   "metadata": {},
   "outputs": [
    {
     "data": {
      "text/plain": [
       "<Axes: xlabel='1981-01-01'>"
      ]
     },
     "execution_count": 107,
     "metadata": {},
     "output_type": "execute_result"
    },
    {
     "data": {
      "image/png": "[encoded data removed]",
      "text/plain": [
       "<Figure size 1500x500 with 1 Axes>"
      ]
     },
     "metadata": {},
     "output_type": "display_data"
    }
   ],
   "source": [
    "ts.plot(figsize=(15, 5))"
   ]
  },
  {
   "cell_type": "code",
   "execution_count": 109,
   "metadata": {},
   "outputs": [],
   "source": [
    "def transform_into_matrix(ts: pd.Series, num_lags: int) -> Tuple[np.array]:\n",
    "    \"\"\"\n",
    "    Transforms time series into lags matrix to allow\n",
    "    applying supervised learning algorithms\n",
    "\n",
    "    Parameters\n",
    "    ------------\n",
    "    ts\n",
    "        Time series to transform\n",
    "    num_lags\n",
    "        Number of lags to use\n",
    "\n",
    "    Returns\n",
    "    --------\n",
    "        train, test: np.arrays of shapes (ts-num_lags, num_lags), (num_lags,)\n",
    "    \"\"\"\n",
    "\n",
    "    ts_values = ts.values\n",
    "    data = {}\n",
    "    for i in range(num_lags + 1):\n",
    "        data[f'lag_{num_lags - i}'] = np.roll(ts_values, -i)\n",
    "\n",
    "    lags_matrix = pd.DataFrame(data)[:-num_lags]\n",
    "    lags_matrix.index = ts.index[num_lags:]\n",
    "\n",
    "    return lags_matrix.drop('lag_0', axis=1).values, lags_matrix['lag_0'].values"
   ]
  },
  {
   "cell_type": "code",
   "execution_count": 110,
   "metadata": {},
   "outputs": [],
   "source": [
    "NUM_LAGS = 14\n",
    "X, y = transform_into_matrix(ts, NUM_LAGS)"
   ]
  },
  {
   "cell_type": "code",
   "execution_count": 111,
   "metadata": {},
   "outputs": [
    {
     "data": {
      "text/plain": [
       "array([17.9, 18.8, 14.6, 15.8, 15.8, 15.8, 17.4, 21.8, 20. , 16.2, 13.3,\n",
       "       16.7, 21.5, 25. ])"
      ]
     },
     "execution_count": 111,
     "metadata": {},
     "output_type": "execute_result"
    }
   ],
   "source": [
    "X[0]"
   ]
  },
  {
   "cell_type": "code",
   "execution_count": 113,
   "metadata": {},
   "outputs": [],
   "source": [
    "X = X.reshape((X.shape[0], X.shape[1], 1))"
   ]
  },
  {
   "cell_type": "code",
   "execution_count": 114,
   "metadata": {},
   "outputs": [
    {
     "data": {
      "text/plain": [
       "array([[17.9],\n",
       "       [18.8],\n",
       "       [14.6],\n",
       "       [15.8],\n",
       "       [15.8],\n",
       "       [15.8],\n",
       "       [17.4],\n",
       "       [21.8],\n",
       "       [20. ],\n",
       "       [16.2],\n",
       "       [13.3],\n",
       "       [16.7],\n",
       "       [21.5],\n",
       "       [25. ]])"
      ]
     },
     "execution_count": 114,
     "metadata": {},
     "output_type": "execute_result"
    }
   ],
   "source": [
    "X[0]"
   ]
  },
  {
   "cell_type": "code",
   "execution_count": 115,
   "metadata": {},
   "outputs": [],
   "source": [
    "split_idx = int(len(X)*0.8)\n",
    "X_train, X_test = X[:split_idx], X[split_idx:]\n",
    "y_train, y_test = y[:split_idx], y[split_idx:]"
   ]
  },
  {
   "cell_type": "code",
   "execution_count": 117,
   "metadata": {},
   "outputs": [],
   "source": [
    "model = Sequential()\n",
    "model.add(LSTM(50, activation='relu', input_shape=(NUM_LAGS, 1)))\n",
    "model.add(Dense(1))\n",
    "model.compile(optimizer='adam', loss='mse')"
   ]
  },
  {
   "cell_type": "code",
   "execution_count": 118,
   "metadata": {
    "scrolled": true
   },
   "outputs": [
    {
     "name": "stdout",
     "output_type": "stream",
     "text": [
      "Epoch 1/100\n",
      "114/114 [==============================] - 1s 2ms/step - loss: 15.2133\n",
      "Epoch 2/100\n",
      "114/114 [==============================] - 0s 2ms/step - loss: 6.3229\n",
      "Epoch 3/100\n",
      "114/114 [==============================] - 0s 2ms/step - loss: 5.9155\n",
      "Epoch 4/100\n",
      "114/114 [==============================] - 0s 2ms/step - loss: 5.9387\n",
      "Epoch 5/100\n",
      "114/114 [==============================] - 0s 2ms/step - loss: 5.8956\n",
      "Epoch 6/100\n",
      "114/114 [==============================] - 0s 2ms/step - loss: 5.8242\n",
      "Epoch 7/100\n",
      "114/114 [==============================] - 0s 2ms/step - loss: 5.8696\n",
      "Epoch 8/100\n",
      "114/114 [==============================] - 0s 2ms/step - loss: 5.9192\n",
      "Epoch 9/100\n",
      "114/114 [==============================] - 0s 2ms/step - loss: 5.8374\n",
      "Epoch 10/100\n",
      "114/114 [==============================] - 0s 2ms/step - loss: 5.8834\n",
      "Epoch 11/100\n",
      "114/114 [==============================] - 0s 2ms/step - loss: 5.8258\n",
      "Epoch 12/100\n",
      "114/114 [==============================] - 0s 2ms/step - loss: 5.8672\n",
      "Epoch 13/100\n",
      "114/114 [==============================] - 0s 2ms/step - loss: 5.8275\n",
      "Epoch 14/100\n",
      "114/114 [==============================] - 0s 2ms/step - loss: 5.7740\n",
      "Epoch 15/100\n",
      "114/114 [==============================] - 0s 2ms/step - loss: 5.7770\n",
      "Epoch 16/100\n",
      "114/114 [==============================] - 0s 2ms/step - loss: 5.8330\n",
      "Epoch 17/100\n",
      "114/114 [==============================] - 0s 2ms/step - loss: 5.8182\n",
      "Epoch 18/100\n",
      "114/114 [==============================] - 0s 2ms/step - loss: 5.9406\n",
      "Epoch 19/100\n",
      "114/114 [==============================] - 0s 2ms/step - loss: 5.7882\n",
      "Epoch 20/100\n",
      "114/114 [==============================] - 0s 2ms/step - loss: 5.7730\n",
      "Epoch 21/100\n",
      "114/114 [==============================] - 0s 2ms/step - loss: 5.7695\n",
      "Epoch 22/100\n",
      "114/114 [==============================] - 0s 2ms/step - loss: 5.7511\n",
      "Epoch 23/100\n",
      "114/114 [==============================] - 0s 2ms/step - loss: 5.7339\n",
      "Epoch 24/100\n",
      "114/114 [==============================] - 0s 2ms/step - loss: 5.7167\n",
      "Epoch 25/100\n",
      "114/114 [==============================] - 0s 2ms/step - loss: 5.7745\n",
      "Epoch 26/100\n",
      "114/114 [==============================] - 0s 2ms/step - loss: 5.7156\n",
      "Epoch 27/100\n",
      "114/114 [==============================] - 0s 2ms/step - loss: 5.7790\n",
      "Epoch 28/100\n",
      "114/114 [==============================] - 0s 2ms/step - loss: 5.7533\n",
      "Epoch 29/100\n",
      "114/114 [==============================] - 0s 2ms/step - loss: 5.7316\n",
      "Epoch 30/100\n",
      "114/114 [==============================] - 0s 2ms/step - loss: 5.7997\n",
      "Epoch 31/100\n",
      "114/114 [==============================] - 0s 2ms/step - loss: 5.8047\n",
      "Epoch 32/100\n",
      "114/114 [==============================] - 0s 2ms/step - loss: 5.7588\n",
      "Epoch 33/100\n",
      "114/114 [==============================] - 0s 2ms/step - loss: 5.6942\n",
      "Epoch 34/100\n",
      "114/114 [==============================] - 0s 2ms/step - loss: 5.7254\n",
      "Epoch 35/100\n",
      "114/114 [==============================] - 0s 2ms/step - loss: 5.7793\n",
      "Epoch 36/100\n",
      "114/114 [==============================] - 0s 2ms/step - loss: 5.6841\n",
      "Epoch 37/100\n",
      "114/114 [==============================] - 0s 2ms/step - loss: 5.7206\n",
      "Epoch 38/100\n",
      "114/114 [==============================] - 0s 2ms/step - loss: 5.7089\n",
      "Epoch 39/100\n",
      "114/114 [==============================] - 0s 2ms/step - loss: 5.7009\n",
      "Epoch 40/100\n",
      "114/114 [==============================] - 0s 2ms/step - loss: 5.6781\n",
      "Epoch 41/100\n",
      "114/114 [==============================] - 0s 2ms/step - loss: 5.6730\n",
      "Epoch 42/100\n",
      "114/114 [==============================] - 0s 2ms/step - loss: 5.7873\n",
      "Epoch 43/100\n",
      "114/114 [==============================] - 0s 2ms/step - loss: 5.7207\n",
      "Epoch 44/100\n",
      "114/114 [==============================] - 0s 2ms/step - loss: 5.6679\n",
      "Epoch 45/100\n",
      "114/114 [==============================] - 0s 2ms/step - loss: 5.6810\n",
      "Epoch 46/100\n",
      "114/114 [==============================] - 0s 2ms/step - loss: 5.6562\n",
      "Epoch 47/100\n",
      "114/114 [==============================] - 0s 2ms/step - loss: 5.7491\n",
      "Epoch 48/100\n",
      "114/114 [==============================] - 0s 2ms/step - loss: 5.7305\n",
      "Epoch 49/100\n",
      "114/114 [==============================] - 0s 2ms/step - loss: 5.7463\n",
      "Epoch 50/100\n",
      "114/114 [==============================] - 0s 2ms/step - loss: 5.7448\n",
      "Epoch 51/100\n",
      "114/114 [==============================] - 0s 2ms/step - loss: 5.6313\n",
      "Epoch 52/100\n",
      "114/114 [==============================] - 0s 2ms/step - loss: 5.6775\n",
      "Epoch 53/100\n",
      "114/114 [==============================] - 0s 3ms/step - loss: 5.6321\n",
      "Epoch 54/100\n",
      "114/114 [==============================] - 0s 2ms/step - loss: 5.6596\n",
      "Epoch 55/100\n",
      "114/114 [==============================] - 0s 2ms/step - loss: 5.6452\n",
      "Epoch 56/100\n",
      "114/114 [==============================] - 0s 2ms/step - loss: 5.7273\n",
      "Epoch 57/100\n",
      "114/114 [==============================] - 0s 2ms/step - loss: 5.6439\n",
      "Epoch 58/100\n",
      "114/114 [==============================] - 0s 2ms/step - loss: 5.6785\n",
      "Epoch 59/100\n",
      "114/114 [==============================] - 0s 2ms/step - loss: 5.6441\n",
      "Epoch 60/100\n",
      "114/114 [==============================] - 0s 2ms/step - loss: 5.6192\n",
      "Epoch 61/100\n",
      "114/114 [==============================] - 0s 2ms/step - loss: 5.5972\n",
      "Epoch 62/100\n",
      "114/114 [==============================] - 0s 2ms/step - loss: 5.6734\n",
      "Epoch 63/100\n",
      "114/114 [==============================] - 0s 2ms/step - loss: 5.6040\n",
      "Epoch 64/100\n",
      "114/114 [==============================] - 0s 2ms/step - loss: 5.5958\n",
      "Epoch 65/100\n",
      "114/114 [==============================] - 0s 2ms/step - loss: 5.5968\n",
      "Epoch 66/100\n",
      "114/114 [==============================] - 0s 2ms/step - loss: 5.5883\n",
      "Epoch 67/100\n",
      "114/114 [==============================] - 0s 2ms/step - loss: 5.6546\n",
      "Epoch 68/100\n",
      "114/114 [==============================] - 0s 2ms/step - loss: 5.5718\n",
      "Epoch 69/100\n",
      "114/114 [==============================] - 0s 2ms/step - loss: 5.5968\n",
      "Epoch 70/100\n",
      "114/114 [==============================] - 0s 2ms/step - loss: 5.5428\n",
      "Epoch 71/100\n",
      "114/114 [==============================] - 0s 2ms/step - loss: 5.5965\n",
      "Epoch 72/100\n",
      "114/114 [==============================] - 0s 2ms/step - loss: 5.5764\n",
      "Epoch 73/100\n",
      "114/114 [==============================] - 0s 2ms/step - loss: 5.5164\n",
      "Epoch 74/100\n",
      "114/114 [==============================] - 0s 2ms/step - loss: 5.5475\n",
      "Epoch 75/100\n",
      "114/114 [==============================] - 0s 2ms/step - loss: 5.6235\n",
      "Epoch 76/100\n",
      "114/114 [==============================] - 0s 2ms/step - loss: 5.5871\n",
      "Epoch 77/100\n",
      "114/114 [==============================] - 0s 2ms/step - loss: 5.5249\n",
      "Epoch 78/100\n",
      "114/114 [==============================] - 0s 2ms/step - loss: 5.5847\n",
      "Epoch 79/100\n",
      "114/114 [==============================] - 0s 2ms/step - loss: 5.5452\n",
      "Epoch 80/100\n",
      "114/114 [==============================] - 0s 2ms/step - loss: 5.5440\n",
      "Epoch 81/100\n",
      "114/114 [==============================] - 0s 3ms/step - loss: 5.4666\n",
      "Epoch 82/100\n",
      "114/114 [==============================] - 0s 3ms/step - loss: 5.5446\n",
      "Epoch 83/100\n",
      "114/114 [==============================] - 0s 3ms/step - loss: 5.4910\n",
      "Epoch 84/100\n",
      "114/114 [==============================] - 0s 3ms/step - loss: 5.4729\n",
      "Epoch 85/100\n",
      "114/114 [==============================] - 0s 2ms/step - loss: 5.5018\n",
      "Epoch 86/100\n",
      "114/114 [==============================] - 0s 3ms/step - loss: 5.4776\n",
      "Epoch 87/100\n",
      "114/114 [==============================] - 0s 2ms/step - loss: 5.4867\n",
      "Epoch 88/100\n",
      "114/114 [==============================] - 0s 3ms/step - loss: 5.4349\n",
      "Epoch 89/100\n",
      "114/114 [==============================] - 0s 2ms/step - loss: 5.4677\n",
      "Epoch 90/100\n",
      "114/114 [==============================] - 0s 2ms/step - loss: 5.4952\n",
      "Epoch 91/100\n",
      "114/114 [==============================] - 0s 2ms/step - loss: 5.4087\n",
      "Epoch 92/100\n",
      "114/114 [==============================] - 0s 2ms/step - loss: 5.4885\n",
      "Epoch 93/100\n",
      "114/114 [==============================] - 0s 2ms/step - loss: 5.3817\n",
      "Epoch 94/100\n",
      "114/114 [==============================] - 0s 2ms/step - loss: 5.3793\n",
      "Epoch 95/100\n",
      "114/114 [==============================] - 0s 2ms/step - loss: 5.3769\n",
      "Epoch 96/100\n",
      "114/114 [==============================] - 0s 2ms/step - loss: 5.4407\n",
      "Epoch 97/100\n",
      "114/114 [==============================] - 0s 2ms/step - loss: 5.4492\n",
      "Epoch 98/100\n",
      "114/114 [==============================] - 0s 2ms/step - loss: 5.4784\n",
      "Epoch 99/100\n",
      "114/114 [==============================] - 0s 2ms/step - loss: 5.3436\n",
      "Epoch 100/100\n",
      "114/114 [==============================] - 0s 2ms/step - loss: 5.3679\n"
     ]
    },
    {
     "data": {
      "text/plain": [
       "<keras.src.callbacks.History at 0x297a718a0>"
      ]
     },
     "execution_count": 118,
     "metadata": {},
     "output_type": "execute_result"
    }
   ],
   "source": [
    "model.fit(X, y, epochs=100)"
   ]
  },
  {
   "cell_type": "code",
   "execution_count": 31,
   "metadata": {},
   "outputs": [],
   "source": [
    "y_pred = model.predict(X_test)"
   ]
  },
  {
   "cell_type": "code",
   "execution_count": 130,
   "metadata": {},
   "outputs": [
    {
     "data": {
      "text/plain": [
       "<Axes: >"
      ]
     },
     "execution_count": 130,
     "metadata": {},
     "output_type": "execute_result"
    },
    {
     "data": {
      "image/png": "[encoded data removed]",
      "text/plain": [
       "<Figure size 640x480 with 1 Axes>"
      ]
     },
     "metadata": {},
     "output_type": "display_data"
    }
   ],
   "source": [
    "pd.Series(y_test.flatten())[-50:].plot()\n",
    "pd.Series(y_pred.flatten())[-50:].plot()"
   ]
  },
  {
   "cell_type": "code",
   "execution_count": 33,
   "metadata": {},
   "outputs": [],
   "source": [
    "### данный результат на самом деле не сильно лучше наивного предсказания"
   ]
  },
  {
   "cell_type": "code",
   "execution_count": 33,
   "metadata": {},
   "outputs": [],
   "source": [
    "from sklearn.metrics import mean_squared_error as mse"
   ]
  },
  {
   "cell_type": "code",
   "execution_count": 34,
   "metadata": {},
   "outputs": [
    {
     "data": {
      "text/plain": [
       "4.548428771578284"
      ]
     },
     "execution_count": 34,
     "metadata": {},
     "output_type": "execute_result"
    }
   ],
   "source": [
    "mse(y_test.flatten(), y_pred.flatten())"
   ]
  },
  {
   "cell_type": "markdown",
   "metadata": {},
   "source": [
    "### Stacked LSTM"
   ]
  },
  {
   "cell_type": "markdown",
   "metadata": {},
   "source": [
    "#### Добавьте дополнительные скрытые слои в сеть (используйте return_sequences=True) и сравните качество"
   ]
  },
  {
   "cell_type": "code",
   "execution_count": 141,
   "metadata": {},
   "outputs": [],
   "source": [
    "model = Sequential()\n",
    "model.add(LSTM(50, activation='relu', input_shape=(NUM_LAGS, 1), return_sequences=True))\n",
    "model.add(LSTM(50, activation='relu', input_shape=(NUM_LAGS, 1)))\n",
    "model.add(Dense(1))\n",
    "model.compile(optimizer='adam', loss='mse')"
   ]
  },
  {
   "cell_type": "code",
   "execution_count": 132,
   "metadata": {
    "scrolled": true
   },
   "outputs": [
    {
     "data": {
      "text/plain": [
       "<keras.src.callbacks.History at 0x2cf860a60>"
      ]
     },
     "execution_count": 132,
     "metadata": {},
     "output_type": "execute_result"
    }
   ],
   "source": [
    "model.fit(X_train, y_train, epochs=100, verbose=0)"
   ]
  },
  {
   "cell_type": "code",
   "execution_count": 133,
   "metadata": {},
   "outputs": [
    {
     "name": "stdout",
     "output_type": "stream",
     "text": [
      "23/23 [==============================] - 0s 2ms/step\n"
     ]
    }
   ],
   "source": [
    "y_pred = model.predict(X_test)"
   ]
  },
  {
   "cell_type": "code",
   "execution_count": 134,
   "metadata": {},
   "outputs": [
    {
     "data": {
      "text/plain": [
       "<Axes: >"
      ]
     },
     "execution_count": 134,
     "metadata": {},
     "output_type": "execute_result"
    },
    {
     "data": {
      "image/png": "[encoded data removed]",
      "text/plain": [
       "<Figure size 640x480 with 1 Axes>"
      ]
     },
     "metadata": {},
     "output_type": "display_data"
    }
   ],
   "source": [
    "pd.Series(y_test.flatten())[-50:].plot()\n",
    "pd.Series(y_pred.flatten())[-50:].plot()"
   ]
  },
  {
   "cell_type": "code",
   "execution_count": 136,
   "metadata": {},
   "outputs": [
    {
     "data": {
      "text/plain": [
       "5.403300603717677"
      ]
     },
     "execution_count": 136,
     "metadata": {},
     "output_type": "execute_result"
    }
   ],
   "source": [
    "mse(y_test.flatten(), y_pred.flatten())"
   ]
  },
  {
   "cell_type": "markdown",
   "metadata": {},
   "source": [
    "### Bidirectional LSTM"
   ]
  },
  {
   "cell_type": "markdown",
   "metadata": {},
   "source": [
    "#### Сделаем LSTM слой сети Bidirectional при помощи доп слоя Biderectional и сравним качество"
   ]
  },
  {
   "cell_type": "code",
   "execution_count": 137,
   "metadata": {},
   "outputs": [],
   "source": [
    "from tensorflow.keras.layers import Bidirectional\n",
    "\n",
    "model = Sequential()\n",
    "model.add(LSTM(50, activation='relu', input_shape=(NUM_LAGS, 1), return_sequences=True))\n",
    "model.add(Bidirectional(LSTM(50, activation='relu', input_shape=(NUM_LAGS, 1))))\n",
    "model.add(Dense(1))\n",
    "model.compile(optimizer='adam', loss='mse')"
   ]
  },
  {
   "cell_type": "code",
   "execution_count": 138,
   "metadata": {},
   "outputs": [
    {
     "data": {
      "text/plain": [
       "<keras.src.callbacks.History at 0x2cf96c8b0>"
      ]
     },
     "execution_count": 138,
     "metadata": {},
     "output_type": "execute_result"
    }
   ],
   "source": [
    "model.fit(X_train, y_train, epochs=10, verbose=0)"
   ]
  },
  {
   "cell_type": "code",
   "execution_count": 139,
   "metadata": {},
   "outputs": [
    {
     "name": "stdout",
     "output_type": "stream",
     "text": [
      "23/23 [==============================] - 0s 2ms/step\n"
     ]
    }
   ],
   "source": [
    "y_pred = model.predict(X_test)"
   ]
  },
  {
   "cell_type": "code",
   "execution_count": 140,
   "metadata": {},
   "outputs": [
    {
     "data": {
      "text/plain": [
       "5.132437860726388"
      ]
     },
     "execution_count": 140,
     "metadata": {},
     "output_type": "execute_result"
    }
   ],
   "source": [
    "mse(y_test.flatten(), y_pred.flatten())"
   ]
  },
  {
   "cell_type": "markdown",
   "metadata": {},
   "source": [
    "### Seq2Seq LSTM - когда нужно сделать предсказание на несколько точек вперед"
   ]
  },
  {
   "cell_type": "markdown",
   "metadata": {},
   "source": [
    "#### Подготовим данные"
   ]
  },
  {
   "cell_type": "code",
   "execution_count": 148,
   "metadata": {},
   "outputs": [],
   "source": [
    "from typing import Tuple\n",
    "\n",
    "def transform_ts_into_matrix(ts: pd.Series, num_lags_in: int, num_lags_out: int) -> Tuple[np.array, np.array]:\n",
    "    \"\"\"\n",
    "    Данная функция должна пройтись скользящим окном по временному ряду и для каждых\n",
    "    num_lags_in точек в качестве признаков собрать num_lags_out следующих точек в качестве таргета.\n",
    "    \n",
    "    Вернуть два np.array массива из X_train и y_train соответственно\n",
    "    \"\"\"\n",
    "    sequence = ts.values\n",
    "    X, y = list(), list()\n",
    "    i = 0\n",
    "    outer_idx = num_lags_out\n",
    "    while outer_idx < len(sequence):\n",
    "        inner_idx = i + num_lags_in\n",
    "        outer_idx = inner_idx + num_lags_out\n",
    "        X_, y_ = sequence[i:inner_idx], sequence[inner_idx:outer_idx]\n",
    "        X.append(X_)\n",
    "        y.append(y_)\n",
    "        i += 1\n",
    "    return np.array(X), np.array(y)"
   ]
  },
  {
   "cell_type": "code",
   "execution_count": 149,
   "metadata": {},
   "outputs": [],
   "source": [
    "# получите X и y при помощи предыдущей функции и разбейте на трейн и тест \n",
    "NUM_LAGS_IN = 28\n",
    "NUM_LAGS_OUT = 7\n",
    "\n",
    "X, y = transform_ts_into_matrix(ts, NUM_LAGS_IN, NUM_LAGS_OUT)"
   ]
  },
  {
   "cell_type": "code",
   "execution_count": 150,
   "metadata": {},
   "outputs": [],
   "source": [
    "X = X.reshape((X.shape[0], X.shape[1], 1))"
   ]
  },
  {
   "cell_type": "code",
   "execution_count": 151,
   "metadata": {},
   "outputs": [
    {
     "data": {
      "text/plain": [
       "(3615, 28, 1)"
      ]
     },
     "execution_count": 151,
     "metadata": {},
     "output_type": "execute_result"
    }
   ],
   "source": [
    "X.shape"
   ]
  },
  {
   "cell_type": "code",
   "execution_count": 152,
   "metadata": {},
   "outputs": [
    {
     "data": {
      "text/plain": [
       "(3615, 7)"
      ]
     },
     "execution_count": 152,
     "metadata": {},
     "output_type": "execute_result"
    }
   ],
   "source": [
    "y.shape"
   ]
  },
  {
   "cell_type": "code",
   "execution_count": 153,
   "metadata": {},
   "outputs": [],
   "source": [
    "split_idx = int(len(X)*0.8)\n",
    "X_train, X_test = X[:split_idx], X[split_idx:]\n",
    "y_train, y_test = y[:split_idx], y[split_idx:]"
   ]
  },
  {
   "cell_type": "code",
   "execution_count": 154,
   "metadata": {},
   "outputs": [],
   "source": [
    "# объявим енкодер\n",
    "model = Sequential()\n",
    "model.add(LSTM(100, activation='relu', input_shape=(NUM_LAGS_IN, 1)))"
   ]
  },
  {
   "cell_type": "code",
   "execution_count": 155,
   "metadata": {},
   "outputs": [],
   "source": [
    "# добавим промежуточный слой, преобразующий выход с енкодера для входного слоя в декодер\n",
    "from tensorflow.keras.layers import RepeatVector\n",
    "model.add(RepeatVector(NUM_LAGS_OUT))"
   ]
  },
  {
   "cell_type": "code",
   "execution_count": 156,
   "metadata": {},
   "outputs": [],
   "source": [
    "# обьявим декодер\n",
    "model.add(LSTM(50, activation='relu', return_sequences=True))"
   ]
  },
  {
   "cell_type": "code",
   "execution_count": 157,
   "metadata": {},
   "outputs": [],
   "source": [
    "# обьявим выходной слой - размерность на выходе получается при помощи дополнительного слоя TimeDistributed\n",
    "from tensorflow.keras.layers import TimeDistributed\n",
    "model.add(TimeDistributed(Dense(1)))"
   ]
  },
  {
   "cell_type": "markdown",
   "metadata": {},
   "source": [
    "#### Обучим модель и получим предсказание на тесте"
   ]
  },
  {
   "cell_type": "code",
   "execution_count": 158,
   "metadata": {},
   "outputs": [],
   "source": [
    "model.compile(optimizer='adam', loss='mse')"
   ]
  },
  {
   "cell_type": "code",
   "execution_count": 159,
   "metadata": {},
   "outputs": [
    {
     "name": "stdout",
     "output_type": "stream",
     "text": [
      "Model: \"sequential_10\"\n",
      "_________________________________________________________________\n",
      " Layer (type)                Output Shape              Param #   \n",
      "=================================================================\n",
      " lstm_17 (LSTM)              (None, 100)               40800     \n",
      "                                                                 \n",
      " repeat_vector_2 (RepeatVec  (None, 7, 100)            0         \n",
      " tor)                                                            \n",
      "                                                                 \n",
      " lstm_18 (LSTM)              (None, 7, 50)             30200     \n",
      "                                                                 \n",
      " time_distributed_2 (TimeDi  (None, 7, 1)              51        \n",
      " stributed)                                                      \n",
      "                                                                 \n",
      "=================================================================\n",
      "Total params: 71051 (277.54 KB)\n",
      "Trainable params: 71051 (277.54 KB)\n",
      "Non-trainable params: 0 (0.00 Byte)\n",
      "_________________________________________________________________\n"
     ]
    }
   ],
   "source": [
    "model.summary()"
   ]
  },
  {
   "cell_type": "code",
   "execution_count": 160,
   "metadata": {},
   "outputs": [
    {
     "data": {
      "text/plain": [
       "<keras.src.callbacks.History at 0x2cfa56320>"
      ]
     },
     "execution_count": 160,
     "metadata": {},
     "output_type": "execute_result"
    }
   ],
   "source": [
    "model.fit(X_train, y_train, epochs=10, verbose=0)"
   ]
  },
  {
   "cell_type": "code",
   "execution_count": 161,
   "metadata": {},
   "outputs": [
    {
     "name": "stdout",
     "output_type": "stream",
     "text": [
      "23/23 [==============================] - 0s 3ms/step\n"
     ]
    }
   ],
   "source": [
    "y_pred = model.predict(X_test)"
   ]
  },
  {
   "cell_type": "code",
   "execution_count": 162,
   "metadata": {},
   "outputs": [
    {
     "data": {
      "text/plain": [
       "array([14.079471, 14.218849, 14.324762, ..., 13.539443, 13.389404,\n",
       "       13.360301], dtype=float32)"
      ]
     },
     "execution_count": 162,
     "metadata": {},
     "output_type": "execute_result"
    }
   ],
   "source": [
    "y_pred.flatten()"
   ]
  },
  {
   "cell_type": "code",
   "execution_count": 163,
   "metadata": {},
   "outputs": [
    {
     "data": {
      "text/plain": [
       "6.952048979918201"
      ]
     },
     "execution_count": 163,
     "metadata": {},
     "output_type": "execute_result"
    }
   ],
   "source": [
    "mse(y_test.flatten(), y_pred.flatten())"
   ]
  },
  {
   "cell_type": "markdown",
   "metadata": {},
   "source": [
    "### Пример с многомерным рядом."
   ]
  },
  {
   "cell_type": "code",
   "execution_count": 164,
   "metadata": {},
   "outputs": [],
   "source": [
    "ts_multi = pd.read_csv('../data/stability_index.csv', index_col='timestamp', parse_dates=True)"
   ]
  },
  {
   "cell_type": "code",
   "execution_count": 165,
   "metadata": {},
   "outputs": [],
   "source": [
    "ts_multi.fillna(ts_multi.mean(), axis=0, inplace=True)"
   ]
  },
  {
   "cell_type": "code",
   "execution_count": 166,
   "metadata": {},
   "outputs": [
    {
     "data": {
      "text/html": [
       "<div>\n",
       "<style scoped>\n",
       "    .dataframe tbody tr th:only-of-type {\n",
       "        vertical-align: middle;\n",
       "    }\n",
       "\n",
       "    .dataframe tbody tr th {\n",
       "        vertical-align: top;\n",
       "    }\n",
       "\n",
       "    .dataframe thead th {\n",
       "        text-align: right;\n",
       "    }\n",
       "</style>\n",
       "<table border=\"1\" class=\"dataframe\">\n",
       "  <thead>\n",
       "    <tr style=\"text-align: right;\">\n",
       "      <th></th>\n",
       "      <th>1</th>\n",
       "      <th>2</th>\n",
       "      <th>3</th>\n",
       "      <th>4</th>\n",
       "      <th>5</th>\n",
       "      <th>6</th>\n",
       "      <th>7</th>\n",
       "      <th>8</th>\n",
       "      <th>9</th>\n",
       "    </tr>\n",
       "    <tr>\n",
       "      <th>timestamp</th>\n",
       "      <th></th>\n",
       "      <th></th>\n",
       "      <th></th>\n",
       "      <th></th>\n",
       "      <th></th>\n",
       "      <th></th>\n",
       "      <th></th>\n",
       "      <th></th>\n",
       "      <th></th>\n",
       "    </tr>\n",
       "  </thead>\n",
       "  <tbody>\n",
       "    <tr>\n",
       "      <th>2020-01-15 13:00:00</th>\n",
       "      <td>205.0</td>\n",
       "      <td>92.0</td>\n",
       "      <td>63.0</td>\n",
       "      <td>55.0</td>\n",
       "      <td>26.0</td>\n",
       "      <td>27.0</td>\n",
       "      <td>20.0</td>\n",
       "      <td>34.0</td>\n",
       "      <td>155.0</td>\n",
       "    </tr>\n",
       "    <tr>\n",
       "      <th>2020-01-15 14:00:00</th>\n",
       "      <td>173.0</td>\n",
       "      <td>97.0</td>\n",
       "      <td>69.0</td>\n",
       "      <td>44.0</td>\n",
       "      <td>31.0</td>\n",
       "      <td>22.0</td>\n",
       "      <td>41.0</td>\n",
       "      <td>26.0</td>\n",
       "      <td>182.0</td>\n",
       "    </tr>\n",
       "    <tr>\n",
       "      <th>2020-01-15 15:00:00</th>\n",
       "      <td>145.0</td>\n",
       "      <td>83.0</td>\n",
       "      <td>73.0</td>\n",
       "      <td>58.0</td>\n",
       "      <td>40.0</td>\n",
       "      <td>25.0</td>\n",
       "      <td>31.0</td>\n",
       "      <td>19.0</td>\n",
       "      <td>167.0</td>\n",
       "    </tr>\n",
       "    <tr>\n",
       "      <th>2020-01-15 16:00:00</th>\n",
       "      <td>84.0</td>\n",
       "      <td>60.0</td>\n",
       "      <td>53.0</td>\n",
       "      <td>39.0</td>\n",
       "      <td>32.0</td>\n",
       "      <td>31.0</td>\n",
       "      <td>19.0</td>\n",
       "      <td>15.0</td>\n",
       "      <td>102.0</td>\n",
       "    </tr>\n",
       "    <tr>\n",
       "      <th>2020-01-15 17:00:00</th>\n",
       "      <td>117.0</td>\n",
       "      <td>77.0</td>\n",
       "      <td>40.0</td>\n",
       "      <td>53.0</td>\n",
       "      <td>33.0</td>\n",
       "      <td>29.0</td>\n",
       "      <td>21.0</td>\n",
       "      <td>30.0</td>\n",
       "      <td>160.0</td>\n",
       "    </tr>\n",
       "  </tbody>\n",
       "</table>\n",
       "</div>"
      ],
      "text/plain": [
       "                         1     2     3     4     5     6     7     8      9\n",
       "timestamp                                                                  \n",
       "2020-01-15 13:00:00  205.0  92.0  63.0  55.0  26.0  27.0  20.0  34.0  155.0\n",
       "2020-01-15 14:00:00  173.0  97.0  69.0  44.0  31.0  22.0  41.0  26.0  182.0\n",
       "2020-01-15 15:00:00  145.0  83.0  73.0  58.0  40.0  25.0  31.0  19.0  167.0\n",
       "2020-01-15 16:00:00   84.0  60.0  53.0  39.0  32.0  31.0  19.0  15.0  102.0\n",
       "2020-01-15 17:00:00  117.0  77.0  40.0  53.0  33.0  29.0  21.0  30.0  160.0"
      ]
     },
     "execution_count": 166,
     "metadata": {},
     "output_type": "execute_result"
    }
   ],
   "source": [
    "ts_multi.head()"
   ]
  },
  {
   "cell_type": "code",
   "execution_count": 167,
   "metadata": {},
   "outputs": [],
   "source": [
    "def transform_multi_ts_into_matrix(ts: pd.DataFrame, num_lags: int):\n",
    "    \"\"\"\n",
    "    Данная функция должна пройтись скользящим окном по временному ряду\n",
    "    и собрать в качестве признаков X np.array размерности (len(ts)-num_lags, n_dims, num_lags),\n",
    "    а в качестве y np.array размерности (len(ts)-num_lags, n_dims),\n",
    "    где n_dims - размерность многомерного ряда.\n",
    "    \n",
    "    То есть для всех компонент временного ряда мы должны взять num_lags предыдущих точек каждой компонент\n",
    "    в качестве признаков и все компоненты текущей точки в качестве target\n",
    "    \"\"\"\n",
    "    sequence = ts.values\n",
    "    X, y = list(), list()\n",
    "    i = 0\n",
    "    end_i = num_lags\n",
    "    while end_i < len(sequence): \n",
    "        seq_x, seq_y = sequence[i:end_i], sequence[end_i]\n",
    "        X.append(seq_x)\n",
    "        y.append(seq_y)\n",
    "        i += 1\n",
    "        end_i = i + num_lags\n",
    "    return np.array(X), np.array(y)"
   ]
  },
  {
   "cell_type": "code",
   "execution_count": 168,
   "metadata": {},
   "outputs": [
    {
     "data": {
      "text/plain": [
       "array([[17.9],\n",
       "       [18.8],\n",
       "       [14.6],\n",
       "       [15.8],\n",
       "       [15.8],\n",
       "       [15.8],\n",
       "       [17.4],\n",
       "       [21.8],\n",
       "       [20. ],\n",
       "       [16.2],\n",
       "       [13.3],\n",
       "       [16.7],\n",
       "       [21.5],\n",
       "       [25. ],\n",
       "       [20.7],\n",
       "       [20.6],\n",
       "       [24.8],\n",
       "       [17.7],\n",
       "       [15.5],\n",
       "       [18.2],\n",
       "       [12.1],\n",
       "       [14.4],\n",
       "       [16. ],\n",
       "       [16.5],\n",
       "       [18.7],\n",
       "       [19.4],\n",
       "       [17.2],\n",
       "       [15.5]])"
      ]
     },
     "execution_count": 168,
     "metadata": {},
     "output_type": "execute_result"
    }
   ],
   "source": [
    "X[0]"
   ]
  },
  {
   "cell_type": "code",
   "execution_count": 169,
   "metadata": {},
   "outputs": [],
   "source": [
    "NUM_LAGS = 14\n",
    "N_DIMS = ts_multi.shape[1]\n",
    "X, y = transform_multi_ts_into_matrix(ts_multi, NUM_LAGS)"
   ]
  },
  {
   "cell_type": "code",
   "execution_count": 170,
   "metadata": {},
   "outputs": [
    {
     "data": {
      "text/plain": [
       "(14, 9)"
      ]
     },
     "execution_count": 170,
     "metadata": {},
     "output_type": "execute_result"
    }
   ],
   "source": [
    "X[0].shape"
   ]
  },
  {
   "cell_type": "code",
   "execution_count": 171,
   "metadata": {},
   "outputs": [],
   "source": [
    "# объявим енкодер\n",
    "model = Sequential()\n",
    "model.add(LSTM(100, activation='relu', input_shape=(NUM_LAGS, N_DIMS)))"
   ]
  },
  {
   "cell_type": "code",
   "execution_count": 71,
   "metadata": {},
   "outputs": [],
   "source": [
    "# добавим промежуточный слой, преобразующий выход с енкодера для входного слоя в декодер\n",
    "from keras.layers import RepeatVector\n",
    "model.add(RepeatVector(N_DIMS))"
   ]
  },
  {
   "cell_type": "code",
   "execution_count": 72,
   "metadata": {},
   "outputs": [],
   "source": [
    "# обьявим декодер\n",
    "model.add(LSTM(50, activation='relu', return_sequences=True))"
   ]
  },
  {
   "cell_type": "code",
   "execution_count": 73,
   "metadata": {},
   "outputs": [],
   "source": [
    "# обьявим выходной слой - размерность на выходе получается при помощи дополнительного слоя TimeDistributed\n",
    "from keras.layers import TimeDistributed\n",
    "model.add(TimeDistributed(Dense(1)))"
   ]
  },
  {
   "cell_type": "code",
   "execution_count": 74,
   "metadata": {},
   "outputs": [],
   "source": [
    "model.compile(optimizer='adam', loss='mse')"
   ]
  },
  {
   "cell_type": "code",
   "execution_count": 75,
   "metadata": {},
   "outputs": [
    {
     "name": "stdout",
     "output_type": "stream",
     "text": [
      "Epoch 1/50\n",
      "130/130 [==============================] - 1s 6ms/step - loss: 5999.7275\n",
      "Epoch 2/50\n",
      "130/130 [==============================] - 1s 6ms/step - loss: 3777.0024\n",
      "Epoch 3/50\n",
      "130/130 [==============================] - 1s 6ms/step - loss: 5287.5801\n",
      "Epoch 4/50\n",
      "130/130 [==============================] - 1s 6ms/step - loss: 3602.5403\n",
      "Epoch 5/50\n",
      "130/130 [==============================] - 1s 6ms/step - loss: 2959.6770\n",
      "Epoch 6/50\n",
      "130/130 [==============================] - 1s 6ms/step - loss: 2576.1541\n",
      "Epoch 7/50\n",
      "130/130 [==============================] - 1s 6ms/step - loss: 2884.8616\n",
      "Epoch 8/50\n",
      "130/130 [==============================] - 1s 6ms/step - loss: 3627.1055\n",
      "Epoch 9/50\n",
      "130/130 [==============================] - 1s 6ms/step - loss: 4065.6665\n",
      "Epoch 10/50\n",
      "130/130 [==============================] - 1s 6ms/step - loss: 2362.0586\n",
      "Epoch 11/50\n",
      "130/130 [==============================] - 1s 6ms/step - loss: 2561.5496\n",
      "Epoch 12/50\n",
      "130/130 [==============================] - 1s 6ms/step - loss: 2276.6846\n",
      "Epoch 13/50\n",
      "130/130 [==============================] - 1s 6ms/step - loss: 2494.7493\n",
      "Epoch 14/50\n",
      "130/130 [==============================] - 1s 6ms/step - loss: 2358.1702\n",
      "Epoch 15/50\n",
      "130/130 [==============================] - 1s 6ms/step - loss: 1853.4426\n",
      "Epoch 16/50\n",
      "130/130 [==============================] - 1s 6ms/step - loss: 1594.6566\n",
      "Epoch 17/50\n",
      "130/130 [==============================] - 1s 6ms/step - loss: 1417.7391\n",
      "Epoch 18/50\n",
      "130/130 [==============================] - 1s 6ms/step - loss: 1362.8281\n",
      "Epoch 19/50\n",
      "130/130 [==============================] - 1s 6ms/step - loss: 1359.8748\n",
      "Epoch 20/50\n",
      "130/130 [==============================] - 1s 6ms/step - loss: 1317.4342\n",
      "Epoch 21/50\n",
      "130/130 [==============================] - 1s 6ms/step - loss: 1334.7505\n",
      "Epoch 22/50\n",
      "130/130 [==============================] - 1s 6ms/step - loss: 1338.0309\n",
      "Epoch 23/50\n",
      "130/130 [==============================] - 1s 6ms/step - loss: 1278.0282\n",
      "Epoch 24/50\n",
      "130/130 [==============================] - 1s 6ms/step - loss: 1346.6675\n",
      "Epoch 25/50\n",
      "130/130 [==============================] - 1s 6ms/step - loss: 1230.1019\n",
      "Epoch 26/50\n",
      "130/130 [==============================] - 1s 6ms/step - loss: 1265.6222\n",
      "Epoch 27/50\n",
      "130/130 [==============================] - 1s 6ms/step - loss: 1226.4595\n",
      "Epoch 28/50\n",
      "130/130 [==============================] - 1s 6ms/step - loss: 1188.6506\n",
      "Epoch 29/50\n",
      "130/130 [==============================] - 1s 6ms/step - loss: 1171.7372\n",
      "Epoch 30/50\n",
      "130/130 [==============================] - 1s 6ms/step - loss: 1195.5413\n",
      "Epoch 31/50\n",
      "130/130 [==============================] - 1s 6ms/step - loss: 1194.6823\n",
      "Epoch 32/50\n",
      "130/130 [==============================] - 1s 6ms/step - loss: 1179.1111\n",
      "Epoch 33/50\n",
      "130/130 [==============================] - 1s 6ms/step - loss: 1232.9827\n",
      "Epoch 34/50\n",
      "130/130 [==============================] - 1s 6ms/step - loss: 1394.8584\n",
      "Epoch 35/50\n",
      "130/130 [==============================] - 1s 6ms/step - loss: 1203.3055\n",
      "Epoch 36/50\n",
      "130/130 [==============================] - 1s 6ms/step - loss: 1175.0997\n",
      "Epoch 37/50\n",
      "130/130 [==============================] - 1s 6ms/step - loss: 1094.5341\n",
      "Epoch 38/50\n",
      "130/130 [==============================] - 1s 6ms/step - loss: 1104.2985\n",
      "Epoch 39/50\n",
      "130/130 [==============================] - 1s 6ms/step - loss: 1115.0865\n",
      "Epoch 40/50\n",
      "130/130 [==============================] - 1s 6ms/step - loss: 1072.4395\n",
      "Epoch 41/50\n",
      "130/130 [==============================] - 1s 6ms/step - loss: 1091.0122\n",
      "Epoch 42/50\n",
      "130/130 [==============================] - 1s 6ms/step - loss: 1079.9656\n",
      "Epoch 43/50\n",
      "130/130 [==============================] - 1s 7ms/step - loss: 1037.3245\n",
      "Epoch 44/50\n",
      "130/130 [==============================] - 1s 6ms/step - loss: 1034.0916\n",
      "Epoch 45/50\n",
      "130/130 [==============================] - 1s 6ms/step - loss: 1013.6235\n",
      "Epoch 46/50\n",
      "130/130 [==============================] - 1s 6ms/step - loss: 999.8643\n",
      "Epoch 47/50\n",
      "130/130 [==============================] - 1s 7ms/step - loss: 1004.9153\n",
      "Epoch 48/50\n",
      "130/130 [==============================] - 1s 7ms/step - loss: 979.1520\n",
      "Epoch 49/50\n",
      "130/130 [==============================] - 1s 6ms/step - loss: 958.6402\n",
      "Epoch 50/50\n",
      "130/130 [==============================] - 1s 7ms/step - loss: 973.3697\n"
     ]
    },
    {
     "data": {
      "text/plain": [
       "<keras.src.callbacks.History at 0x2aa7f5b40>"
      ]
     },
     "execution_count": 75,
     "metadata": {},
     "output_type": "execute_result"
    }
   ],
   "source": [
    "model.fit(X, y, epochs=50)"
   ]
  },
  {
   "cell_type": "code",
   "execution_count": null,
   "metadata": {},
   "outputs": [],
   "source": []
  },
  {
   "cell_type": "code",
   "execution_count": null,
   "metadata": {},
   "outputs": [],
   "source": []
  }
 ],
 "metadata": {
  "kernelspec": {
   "display_name": "Python 3 (ipykernel)",
   "language": "python",
   "name": "python3"
  },
  "language_info": {
   "codemirror_mode": {
    "name": "ipython",
    "version": 3
   },
   "file_extension": ".py",
   "mimetype": "text/x-python",
   "name": "python",
   "nbconvert_exporter": "python",
   "pygments_lexer": "ipython3",
   "version": "3.10.5"
  }
 },
 "nbformat": 4,
 "nbformat_minor": 4
}
